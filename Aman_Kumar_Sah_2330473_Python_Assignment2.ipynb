{
 "cells": [
  {
   "cell_type": "code",
   "execution_count": null,
   "id": "72edf0db",
   "metadata": {},
   "outputs": [],
   "source": [
    "Question 1\n",
    "(5 marks)\n",
    "Create a python script that will prompt the user for 9 values, checking that they are all valid numbers,\n",
    "and populate those given values into a 3x3 Matrix called A.\n",
    "The program should present the created matrix , the determinant of the matrix and, if possible, the\n",
    "inverse of the matrix.\n",
    "The program should also present the results of the matrix operations A*A and A*A*A\n",
    "Finally the program should print the number of values in the matrix that >= 10\n",
    "You will need to evidence the outputs, as well as the error handling of any invalid values when the\n",
    "user attempts to input them in the matrix"
   ]
  },
  {
   "cell_type": "code",
   "execution_count": 3,
   "id": "b7cbe430",
   "metadata": {},
   "outputs": [],
   "source": [
    "#Student ID: 2330473\n",
    "#Aman Kumar Sah\n",
    "import numpy as np\n",
    "\n",
    "# Creating 3x3 matrix A and prompt user for input\n",
    "A = np.zeros((3, 3))\n",
    "for i in range(3):\n",
    "    for j in range(3):\n",
    "        valid_input = False\n",
    "        while not valid_input:\n",
    "            value = input(f\"Enter value for A[{i+1},{j+1}]: \")\n",
    "            try:\n",
    "                A[i][j] = float(value)\n",
    "                valid_input = True\n",
    "            except ValueError:\n",
    "                print(\"Invalid input. Please enter a valid number.\")\n",
    "\n",
    "# Print matrix A\n",
    "print(\"Matrix A:\\n\", A)\n",
    "\n",
    "# Computing determinant of matrix A\n",
    "det_A = np.linalg.det(A)\n",
    "print(\"Determinant of A:\", det_A)\n",
    "\n",
    "# Computing inverse of matrix A (if possible)\n",
    "if det_A != 0:\n",
    "    A_inv = np.linalg.inv(A)\n",
    "    print(\"Inverse of A:\\n\", A_inv)\n",
    "else:\n",
    "    print(\"A is not invertible.\")\n",
    "\n",
    "# Perform matrix operations A*A and A*A*A\n",
    "A_squared = np.dot(A, A)\n",
    "A_cubed = np.dot(A_squared, A)\n",
    "print(\"A*A:\\n\", A_squared)\n",
    "print(\"A*A*A:\\n\", A_cubed)\n",
    "\n",
    "# Count number of values in A that are >= 10\n",
    "num_values_ge_10 = np.sum(A >= 10)\n",
    "print(\"Number of values in A that are >= 10:\", num_values_ge_10)\n",
    "\n",
    "# Transpose matrix A\n",
    "A_T = np.transpose(A)\n",
    "print(\"Transpose of A:\\n\", A_T)\n"
   ]
  },
  {
   "cell_type": "code",
   "execution_count": null,
   "id": "e458e111",
   "metadata": {},
   "outputs": [],
   "source": [
    "Question 2\n",
    "(5 marks)\n",
    "Write and test a Python function, that makes use of numpy, to return the sum of the elements on the\n",
    "main diagonal (upper left to lower right) of a square matrix. In linear algebra, this value is called the\n",
    "trace of the matrix.\n",
    "For example, with a matrix represented as a list of lists eg. [[9, 8, 7], [6, 5, 4], [3, 2, 1]], your function\n",
    "should return (9 + 5 + 1) = “15”\n",
    "Your Python function solution should work for any sized square matrix passed to it. Demonstrate\n",
    "that this is the case with 3x3, 4x4, and 6x6 matrix examples."
   ]
  },
  {
   "cell_type": "code",
   "execution_count": 1,
   "id": "9c901c9f",
   "metadata": {},
   "outputs": [
    {
     "name": "stdout",
     "output_type": "stream",
     "text": [
      "The sum of the elements on themain diagonal (upper left to lower right) of a square matrix (3x3): 15\n",
      "The sum of the elements on themain diagonal (upper left to lower right) of a square matrix (4x4): 34\n",
      "The sum of the elements on themain diagonal (upper left to lower right) of a square matrix (6x6): 111\n"
     ]
    }
   ],
   "source": [
    "#Student Number: 2330473\n",
    "#Aman Kumar Sah\n",
    "import numpy as np\n",
    "\n",
    "def matrix_trace(matrix):\n",
    "    arr = np.array(matrix)\n",
    "    return np.trace(arr)\n",
    "# 3x3 matrix example\n",
    "matrix1 = [[9, 8, 7], [6, 5, 4], [3, 2, 1]]\n",
    "print(\"The sum of the elements on themain diagonal (upper left to lower right) of a square matrix (3x3):\",matrix_trace(matrix1)) \n",
    "\n",
    "# 4x4 matrix example\n",
    "matrix2 = [[1, 2, 3, 4], [5, 6, 7, 8], [9, 10, 11, 12], [13, 14, 15, 16]]\n",
    "print(\"The sum of the elements on themain diagonal (upper left to lower right) of a square matrix (4x4):\",matrix_trace(matrix2)) \n",
    "\n",
    "# 6x6 matrix example\n",
    "matrix3 = [[1, 2, 3, 4, 5, 6], [7, 8, 9, 10, 11, 12], [13, 14, 15, 16, 17, 18], [19, 20, 21, 22, 23, 24], [25, 26, 27, 28, 29, 30], [31, 32, 33, 34, 35, 36]]\n",
    "print(\"The sum of the elements on themain diagonal (upper left to lower right) of a square matrix (6x6):\",matrix_trace(matrix3))"
   ]
  },
  {
   "cell_type": "code",
   "execution_count": null,
   "id": "d4126dbb",
   "metadata": {},
   "outputs": [
    {
     "data": {
      "text/plain": [
       "9"
      ]
     },
     "execution_count": 2,
     "metadata": {},
     "output_type": "execute_result"
    }
   ],
   "source": [
    "def ackermann(m, n):\n",
    "    if m == 0:\n",
    "        return n + 1\n",
    "    elif m > 0 and n == 0:\n",
    "        return ackermann(m - 1, 1)\n",
    "    else:\n",
    "        return ackermann(m - 1, ackermann(m, n - 1))\n",
    "ackermann(2, 3)"
   ]
  },
  {
   "cell_type": "code",
   "execution_count": null,
   "id": "7ac39ed7",
   "metadata": {},
   "outputs": [],
   "source": []
  }
 ],
 "metadata": {
  "kernelspec": {
   "display_name": "Python 3 (ipykernel)",
   "language": "python",
   "name": "python3"
  },
  "language_info": {
   "codemirror_mode": {
    "name": "ipython",
    "version": 3
   },
   "file_extension": ".py",
   "mimetype": "text/x-python",
   "name": "python",
   "nbconvert_exporter": "python",
   "pygments_lexer": "ipython3",
   "version": "3.9.13"
  }
 },
 "nbformat": 4,
 "nbformat_minor": 5
}
