{
 "cells": [
  {
   "cell_type": "code",
   "execution_count": 2,
   "id": "3741e5e0",
   "metadata": {},
   "outputs": [
    {
     "ename": "SyntaxError",
     "evalue": "invalid syntax (1638527498.py, line 5)",
     "output_type": "error",
     "traceback": [
      "\u001b[1;36m  File \u001b[1;32m\"C:\\Users\\97798\\AppData\\Local\\Temp\\ipykernel_8024\\1638527498.py\"\u001b[1;36m, line \u001b[1;32m5\u001b[0m\n\u001b[1;33m    1. The revised ‘Harris-Benedict’ method for calculating ‘Basal Metabolic Rate’ (BMR) is as follows:\u001b[0m\n\u001b[1;37m       ^\u001b[0m\n\u001b[1;31mSyntaxError\u001b[0m\u001b[1;31m:\u001b[0m invalid syntax\n"
     ]
    }
   ],
   "source": [
    "#Name = Aman kumar Sah\n",
    "#Student ID = 2330473\n",
    "\n",
    "1. The revised ‘Harris-Benedict’ method for calculating ‘Basal Metabolic Rate’ (BMR) is as follows:\n",
    "\n",
    "Men\tBMR = 88.362 + (13.397 x weight in kg) + (4.799 x height in cm) – (5.677 x age in years) \n",
    "Women\tBMR = 447.593 + (9.247 x weight in kg) + (3.098 x height in cm) – (4.330 x age in years)\n",
    "\n",
    "\n",
    "Based on an individual's level of weekly exercise, the recommended daily kilocalorie intake to maintain current weight can be calculated via; \n",
    "\n",
    "Exercise\n",
    "Category Code\t Individual’s level of exercise\t Calculation of daily intake required (kilocalories)\n",
    "0\t Little to no exercise\t BMR x 1.2\n",
    "1\t Light exercise (1–3 days per week)\t BMR x 1.375\n",
    "2\tModerate exercise (3–5 days per week)\t BMR x 1.55\n",
    "3\t Heavy exercise (6–7 days per week)\t  BMR x 1.725\n",
    "4\t Very heavy exercise (twice per day, extra heavy workouts)\t BMR x 1.9\n",
    "\n",
    "Using this information, create a Py program that will prompt for an individual's details, and their level of weekly exercise, then calculate the corresponding BMR and daily required KC intake and return this information to the user. \n"
   ]
  },
  {
   "cell_type": "code",
   "execution_count": 9,
   "id": "57beaf2e",
   "metadata": {},
   "outputs": [
    {
     "name": "stdout",
     "output_type": "stream",
     "text": [
      "krish who is 3 years old, weighs 3.0 kg, and is 3.0 cm tall, has a BMR of 125.9.\n",
      "Daily kilocalorie intake to maintain current weight is 173.138625\n"
     ]
    }
   ],
   "source": [
    "def basal_metabolic_rate():\n",
    "    gender = input(\"Enter m for male and f for female: \")\n",
    "    if gender == 'm':\n",
    "        name = input(\"Enter the name: \")\n",
    "        age = int(input(\"Enter Age in years: \"))\n",
    "        weight = float(input(\"Enter Weight in Kilogram: \"))\n",
    "        height = float(input(\"Enter Height in Centimeter: \"))\n",
    "        bmr = 88.362 + (13.397 * weight) + (4.799 * height) - (5.677 * age)\n",
    "        return name, age, weight, height, bmr\n",
    "    elif gender == 'f':\n",
    "        name = input(\"Enter name: \")\n",
    "        age = int(input(\"Enter Age in years: \"))\n",
    "        weight = float(input(\"Enter Weight in Kilogram: \"))\n",
    "        height = float(input(\"Enter Height in Centimeter: \"))\n",
    "        bmr = 447.593 + (9.247 * weight) + (3.098 * height) - (4.330 * age)\n",
    "        return name, age, weight, height, bmr\n",
    "    else:\n",
    "        print(\"Enter f or m only\")\n",
    "        return basal_metabolic_rate()\n",
    "\n",
    "def weekly_exercise():\n",
    "    # Get user input for number of exercises per week\n",
    "    num = int(input(\"Enter a number of exercises per week: \"))\n",
    "    \n",
    "    # Use a switch case to determine kilocalorie intake based on number of exercises per week\n",
    "    if num == 0:\n",
    "        indi = bmr * 1.2\n",
    "        print(\"Daily kilocalorie intake to maintain current weight is \" + str(indi))\n",
    "    elif num in [1, 2, 3]:\n",
    "        indi = bmr * 1.375\n",
    "        print(\"Daily kilocalorie intake to maintain current weight is \" + str(indi))\n",
    "    elif num in [4, 5]:\n",
    "        indi = bmr * 1.55\n",
    "        print(\"Daily kilocalorie intake to maintain current weight is \" + str(indi))\n",
    "    elif num in [6, 7]:\n",
    "        indi = bmr * 1.725\n",
    "        print(\"Daily kilocalorie intake to maintain current weight is \" + str(indi))\n",
    "    else:\n",
    "        indi = bmr * 1.9\n",
    "        print(\"Daily kilocalorie intake to maintain current weight is \" + str(indi))\n",
    "        \n",
    "\n",
    "# Call the basal_metabolic_rate function and store the returned values\n",
    "name, age, weight, height, bmr = basal_metabolic_rate()\n",
    "\n",
    "# Check if BMR value is returned\n",
    "if bmr:\n",
    "    # Format and print the BMR results\n",
    "    result = f\"{name} who is {age} years old, weighs {weight:.1f} kg, and is {height:.1f} cm tall, has a BMR of {bmr:.1f}.\"\n",
    "    print(result)\n",
    "\n",
    "# Call the weekly_exercise function to determine kilocalorie intake based on exercise frequency\n",
    "weekly_exercise()\n"
   ]
  },
  {
   "cell_type": "code",
   "execution_count": null,
   "id": "25e7b34c",
   "metadata": {},
   "outputs": [],
   "source": [
    "2. Create a program that utilises a recursive function to calculate the sum of integer values \n",
    "between two given integers inclusive, i.e. 5, and 7 as inputs should return 18 (5+6+7). The program \n",
    "should ask the user for the low and high numbers to act as the initial and last values in this \n",
    "calculation, then find and return the sum. Your program will need to provide feedback if this is not \n",
    "possible due to; the input values not being integers, or the ‘low’ value being higher than the ‘high’ \n",
    "value.\n",
    "\n",
    "Demonstrate this program works with:\n",
    "1.\tThe calculation of the sum of values between the first number of your student number and the last \n",
    "two digits of your student number when read as one number. (i.e. with a student number of 543820, the \n",
    "                                                            values will be ‘5’ and ‘20’.)\n",
    "2.\tThe calculation of a low value of “-12” and a high value of your height in feet (rounding up).\n",
    "3.\tSuitable feedback for invalid input.\n"
   ]
  },
  {
   "cell_type": "code",
   "execution_count": 10,
   "id": "2b02e51b",
   "metadata": {},
   "outputs": [
    {
     "name": "stdout",
     "output_type": "stream",
     "text": [
      "Welcome to Aman_Kumar_Sah(2330473)'s code\n",
      "Invalid input: both values must be integers\n",
      "The sum of integers between 2 and 22 inclusive is 232\n"
     ]
    }
   ],
   "source": [
    "print(\"Welcome to Aman_Kumar_Sah(2330473)'s code\")\n",
    "# Define a recursive function that calculates the sum of integers between two given integers\n",
    "def sum_between(low_int, high_int):\n",
    "    if low_int == high_int:\n",
    "        return low\n",
    "    elif low_int < high_int:\n",
    "        return low_int + sum_between(low_int+1, high_int)\n",
    "    else:\n",
    "        return 0\n",
    "\n",
    "# Prompt the user to enter the low and high values, and validate the input\n",
    "while True:\n",
    "    try:\n",
    "        low = int(input(\"Enter the low value: \"))\n",
    "        high = int(input(\"Enter the high value: \"))\n",
    "        if low > high:\n",
    "            print(\"Invalid input: low value cannot be higher than high value\")\n",
    "        else:\n",
    "            break\n",
    "    except ValueError:\n",
    "        print(\"Invalid input: both values must be integers\")\n",
    "\n",
    "# Call the sum_between function to calculate the sum, and output the result\n",
    "sum = sum_between(low, high)\n",
    "print(f\"The sum of integers between {low} and {high} inclusive is {sum}\")\n"
   ]
  },
  {
   "cell_type": "code",
   "execution_count": 7,
   "id": "0f99dc67",
   "metadata": {},
   "outputs": [
    {
     "name": "stdout",
     "output_type": "stream",
     "text": [
      "Welcome to Aman_Kumar_Sah(2330473)'s code\n",
      "Invalid input: both values must be integers\n",
      "The sum of integers between 2 and 3 inclusive is 4\n"
     ]
    }
   ],
   "source": [
    "print(\"Welcome to Aman_Kumar_Sah(2330473)'s code\")\n",
    "# Define a recursive function that calculates the sum of integers between two given integers\n",
    "def sum_between(low_int, high_int):\n",
    "    if low_int == high_int:\n",
    "        return low\n",
    "    elif low_int < high_int:\n",
    "        return low_int + sum_between(low_int+1, high_int)\n",
    "    else:\n",
    "        return 0\n",
    "\n",
    "# Prompt the user to enter the low and high values, and validate the input\n",
    "while True:\n",
    "    try:\n",
    "        low = int(input(\"Enter the low value: \"))\n",
    "        high = int(input(\"Enter the high value: \"))\n",
    "        if low > high:\n",
    "            print(\"Invalid input: low value cannot be higher than high value\")\n",
    "        else:\n",
    "            break\n",
    "    except ValueError:\n",
    "        print(\"Invalid input: both values must be integers\")\n",
    "\n",
    "# Call the sum_between function to calculate the sum, and output the result\n",
    "sum = sum_between(low, high)\n",
    "print(f\"The sum of integers between {low} and {high} inclusive is {sum}\")\n"
   ]
  },
  {
   "cell_type": "code",
   "execution_count": 5,
   "id": "d26d6b34",
   "metadata": {},
   "outputs": [
    {
     "ename": "SyntaxError",
     "evalue": "invalid syntax (4068085191.py, line 1)",
     "output_type": "error",
     "traceback": [
      "\u001b[1;36m  File \u001b[1;32m\"C:\\Users\\97798\\AppData\\Local\\Temp\\ipykernel_8024\\4068085191.py\"\u001b[1;36m, line \u001b[1;32m1\u001b[0m\n\u001b[1;33m    Question 3\u001b[0m\n\u001b[1;37m             ^\u001b[0m\n\u001b[1;31mSyntaxError\u001b[0m\u001b[1;31m:\u001b[0m invalid syntax\n"
     ]
    }
   ],
   "source": [
    "Question 3\n",
    "(5 marks)\n",
    "\n",
    "Create a Py Program that will create a graph of y = f(x) where; \n",
    "\n",
    "f(x) = 3x2  \n",
    "\n",
    "And where\n",
    "\n",
    "f(x) = 4x - 3\n",
    "\n",
    "Your graph will need to plot the values of y for the values of x between -5 and +15 for both lines.\n",
    "\n",
    "To completely address this question you will need to; \n",
    "●\tCorrectly label the created graph with a title and labelled axes.\n",
    "●\tUse a function to calculate the values of y for a given x value for both lines.\n",
    "●\tUse plot markers for the graphs plotted points for both lines. \n",
    "●\tInclude a ‘grid’ on the graph.\n",
    "●\tPresent as evidence your code and the created graph with both lines visible.\n"
   ]
  },
  {
   "cell_type": "code",
   "execution_count": 6,
   "id": "0af20bab",
   "metadata": {},
   "outputs": [
    {
     "data": {
      "image/png": "[encoded data removed]",
      "text/plain": [
       "<Figure size 640x480 with 1 Axes>"
      ]
     },
     "metadata": {},
     "output_type": "display_data"
    }
   ],
   "source": [
    "#imports the matplotlib.pyplot library and renames it as plt\n",
    "import matplotlib.pyplot as plt\n",
    "\n",
    "#Define the function fun1(x) to return the value 3 times x squared\n",
    "def fun1(x):\n",
    "    return 3*x*x\n",
    "\n",
    "#Define the function fun2(x) to return the value 4 times x minus 3\n",
    "def fun2(x):\n",
    "    return 4*x-3\n",
    "\n",
    "#Define the function calculate_y(x_values) to calculate y1 and y2 values by calling fun1() and fun2() with the given x_values\n",
    "def calculate_y(x_values):\n",
    "    y1 = [fun1(x) for x in x_values]\n",
    "    y2 = [fun2(x) for x in x_values]\n",
    "    return y1, y2\n",
    "\n",
    "#x_values as a list of integers from -5 to 15\n",
    "x = [-5, -4, -3, -2, -1, 0, 1, 2, 3, 4, 5, 6, 7, 8, 9, 10, 11, 12, 13, 14, 15]\n",
    "#Call calculate_y() with x to get y1 and y2 values\n",
    "y1, y2 = calculate_y(x)\n",
    "\n",
    "#Plot the two sets of x and y values using plt.plot(),title of plot,label x and y axes,turn on the grid,add legend,display plot.\n",
    "plt.plot(x, y1, label='y = 3x^2', marker='o')\n",
    "plt.plot(x, y2, label='y = 4x - 3', marker='s')\n",
    "plt.title('Quadratic and Linear Functions (prepared by Aman Kumar Sah, (2330473))')\n",
    "plt.xlabel('x')\n",
    "plt.ylabel('y')\n",
    "plt.grid()\n",
    "plt.legend()\n",
    "plt.show()\n"
   ]
  },
  {
   "cell_type": "code",
   "execution_count": null,
   "id": "e6558581",
   "metadata": {},
   "outputs": [],
   "source": []
  },
  {
   "cell_type": "code",
   "execution_count": null,
   "id": "8acd4ff7",
   "metadata": {},
   "outputs": [],
   "source": []
  }
 ],
 "metadata": {
  "kernelspec": {
   "display_name": "Python 3 (ipykernel)",
   "language": "python",
   "name": "python3"
  },
  "language_info": {
   "codemirror_mode": {
    "name": "ipython",
    "version": 3
   },
   "file_extension": ".py",
   "mimetype": "text/x-python",
   "name": "python",
   "nbconvert_exporter": "python",
   "pygments_lexer": "ipython3",
   "version": "3.9.13"
  }
 },
 "nbformat": 4,
 "nbformat_minor": 5
}
